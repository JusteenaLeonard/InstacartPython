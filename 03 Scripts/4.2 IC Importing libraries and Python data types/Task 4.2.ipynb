{
 "cells": [
  {
   "cell_type": "markdown",
   "id": "e8550241",
   "metadata": {},
   "source": [
    "# 01 Importing Libraries"
   ]
  },
  {
   "cell_type": "code",
   "execution_count": 1,
   "id": "f6911cba",
   "metadata": {},
   "outputs": [],
   "source": [
    "# Import libraries\n",
    "import pandas as pd\n",
    "import numpy as np\n",
    "import os"
   ]
  },
  {
   "cell_type": "markdown",
   "id": "098f8cd8",
   "metadata": {},
   "source": [
    "# 02 Data Types"
   ]
  },
  {
   "cell_type": "code",
   "execution_count": 2,
   "id": "7c4d23b8",
   "metadata": {},
   "outputs": [],
   "source": [
    "x = 50"
   ]
  },
  {
   "cell_type": "code",
   "execution_count": 3,
   "id": "0ad3fe01",
   "metadata": {},
   "outputs": [
    {
     "data": {
      "text/plain": [
       "100"
      ]
     },
     "execution_count": 3,
     "metadata": {},
     "output_type": "execute_result"
    }
   ],
   "source": [
    "x + x"
   ]
  },
  {
   "cell_type": "code",
   "execution_count": 4,
   "id": "75007fa2",
   "metadata": {},
   "outputs": [],
   "source": [
    "y = 150"
   ]
  },
  {
   "cell_type": "code",
   "execution_count": 5,
   "id": "65253ef9",
   "metadata": {},
   "outputs": [
    {
     "data": {
      "text/plain": [
       "100"
      ]
     },
     "execution_count": 5,
     "metadata": {},
     "output_type": "execute_result"
    }
   ],
   "source": [
    "y - x"
   ]
  },
  {
   "cell_type": "code",
   "execution_count": 6,
   "id": "475a17f4",
   "metadata": {},
   "outputs": [],
   "source": [
    "z = 64"
   ]
  },
  {
   "cell_type": "code",
   "execution_count": 7,
   "id": "f1d2e48d",
   "metadata": {},
   "outputs": [
    {
     "data": {
      "text/plain": [
       "100"
      ]
     },
     "execution_count": 7,
     "metadata": {},
     "output_type": "execute_result"
    }
   ],
   "source": [
    "z + 36"
   ]
  },
  {
   "cell_type": "code",
   "execution_count": 8,
   "id": "bfc8419e",
   "metadata": {},
   "outputs": [],
   "source": [
    "a = 1.652"
   ]
  },
  {
   "cell_type": "code",
   "execution_count": 9,
   "id": "348b1a31",
   "metadata": {},
   "outputs": [],
   "source": [
    "b = 6.953"
   ]
  },
  {
   "cell_type": "code",
   "execution_count": 10,
   "id": "623b955d",
   "metadata": {},
   "outputs": [
    {
     "data": {
      "text/plain": [
       "4.208837772397095"
      ]
     },
     "execution_count": 10,
     "metadata": {},
     "output_type": "execute_result"
    }
   ],
   "source": [
    "b/a"
   ]
  },
  {
   "cell_type": "code",
   "execution_count": 11,
   "id": "50bff41f",
   "metadata": {},
   "outputs": [
    {
     "data": {
      "text/plain": [
       "0.23759528261182222"
      ]
     },
     "execution_count": 11,
     "metadata": {},
     "output_type": "execute_result"
    }
   ],
   "source": [
    "a/b"
   ]
  },
  {
   "cell_type": "code",
   "execution_count": 12,
   "id": "0d9d03cc",
   "metadata": {},
   "outputs": [],
   "source": [
    "c = 'Hello, '"
   ]
  },
  {
   "cell_type": "code",
   "execution_count": 13,
   "id": "afd9c942",
   "metadata": {},
   "outputs": [],
   "source": [
    "d = 'World!'"
   ]
  },
  {
   "cell_type": "code",
   "execution_count": 14,
   "id": "64b90792",
   "metadata": {},
   "outputs": [
    {
     "data": {
      "text/plain": [
       "'Hello, World!'"
      ]
     },
     "execution_count": 14,
     "metadata": {},
     "output_type": "execute_result"
    }
   ],
   "source": [
    "c + d"
   ]
  },
  {
   "cell_type": "code",
   "execution_count": 21,
   "id": "45927e81",
   "metadata": {},
   "outputs": [],
   "source": [
    "e = 'Keep '"
   ]
  },
  {
   "cell_type": "code",
   "execution_count": 22,
   "id": "537c64a4",
   "metadata": {},
   "outputs": [],
   "source": [
    "f = \"on \""
   ]
  },
  {
   "cell_type": "code",
   "execution_count": 23,
   "id": "6d1d58db",
   "metadata": {},
   "outputs": [],
   "source": [
    "g = 'keeping '"
   ]
  },
  {
   "cell_type": "code",
   "execution_count": 24,
   "id": "e9fa0d83",
   "metadata": {},
   "outputs": [],
   "source": [
    "h = 'on!'"
   ]
  },
  {
   "cell_type": "code",
   "execution_count": 25,
   "id": "d354f33a",
   "metadata": {},
   "outputs": [
    {
     "data": {
      "text/plain": [
       "'Keep on keeping on!'"
      ]
     },
     "execution_count": 25,
     "metadata": {},
     "output_type": "execute_result"
    }
   ],
   "source": [
    "e + f + g + h "
   ]
  },
  {
   "cell_type": "code",
   "execution_count": 26,
   "id": "ef00ef1e",
   "metadata": {},
   "outputs": [],
   "source": [
    "i = \"Just \""
   ]
  },
  {
   "cell_type": "code",
   "execution_count": 27,
   "id": "383f150e",
   "metadata": {},
   "outputs": [],
   "source": [
    "j = 'wanted '"
   ]
  },
  {
   "cell_type": "code",
   "execution_count": 28,
   "id": "3a7019d5",
   "metadata": {},
   "outputs": [],
   "source": [
    "k = 'to '"
   ]
  },
  {
   "cell_type": "code",
   "execution_count": 29,
   "id": "3c040042",
   "metadata": {},
   "outputs": [],
   "source": [
    "l = 'send '"
   ]
  },
  {
   "cell_type": "code",
   "execution_count": 30,
   "id": "990bc78d",
   "metadata": {},
   "outputs": [],
   "source": [
    "m = 'you '"
   ]
  },
  {
   "cell_type": "code",
   "execution_count": 35,
   "id": "810a0f02",
   "metadata": {},
   "outputs": [],
   "source": [
    "n = 'a '"
   ]
  },
  {
   "cell_type": "code",
   "execution_count": 32,
   "id": "e0bb5806",
   "metadata": {},
   "outputs": [],
   "source": [
    "o = 'smile '"
   ]
  },
  {
   "cell_type": "code",
   "execution_count": 33,
   "id": "ef55ebbd",
   "metadata": {},
   "outputs": [],
   "source": [
    "p = 'today!'"
   ]
  },
  {
   "cell_type": "code",
   "execution_count": 36,
   "id": "3641f267",
   "metadata": {},
   "outputs": [
    {
     "data": {
      "text/plain": [
       "'Just wanted to send you a smile today!'"
      ]
     },
     "execution_count": 36,
     "metadata": {},
     "output_type": "execute_result"
    }
   ],
   "source": [
    "i + j + k + l + m + n + o + p"
   ]
  },
  {
   "cell_type": "code",
   "execution_count": 1,
   "id": "c0a02375",
   "metadata": {},
   "outputs": [],
   "source": [
    " q = 'Justeena'"
   ]
  },
  {
   "cell_type": "code",
   "execution_count": 2,
   "id": "40ee8240",
   "metadata": {},
   "outputs": [
    {
     "data": {
      "text/plain": [
       "'JusteenaJusteenaJusteenaJusteenaJusteenaJusteenaJusteenaJusteenaJusteenaJusteenaJusteenaJusteenaJusteenaJusteenaJusteenaJusteenaJusteenaJusteenaJusteenaJusteenaJusteenaJusteenaJusteenaJusteenaJusteenaJusteenaJusteenaJusteenaJusteenaJusteenaJusteenaJusteenaJusteenaJusteenaJusteenaJusteenaJusteenaJusteenaJusteenaJusteenaJusteenaJusteenaJusteenaJusteenaJusteenaJusteenaJusteenaJusteenaJusteenaJusteenaJusteenaJusteenaJusteenaJusteenaJusteenaJusteenaJusteenaJusteenaJusteenaJusteenaJusteenaJusteenaJusteenaJusteenaJusteenaJusteenaJusteenaJusteenaJusteenaJusteenaJusteenaJusteenaJusteenaJusteenaJusteenaJusteenaJusteenaJusteenaJusteenaJusteenaJusteenaJusteenaJusteenaJusteenaJusteenaJusteenaJusteenaJusteenaJusteenaJusteenaJusteenaJusteenaJusteenaJusteenaJusteenaJusteenaJusteenaJusteenaJusteenaJusteena'"
      ]
     },
     "execution_count": 2,
     "metadata": {},
     "output_type": "execute_result"
    }
   ],
   "source": [
    "q * 100"
   ]
  }
 ],
 "metadata": {
  "kernelspec": {
   "display_name": "Python 3 (ipykernel)",
   "language": "python",
   "name": "python3"
  },
  "language_info": {
   "codemirror_mode": {
    "name": "ipython",
    "version": 3
   },
   "file_extension": ".py",
   "mimetype": "text/x-python",
   "name": "python",
   "nbconvert_exporter": "python",
   "pygments_lexer": "ipython3",
   "version": "3.9.12"
  }
 },
 "nbformat": 4,
 "nbformat_minor": 5
}
