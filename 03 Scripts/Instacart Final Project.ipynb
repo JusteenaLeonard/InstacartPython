{
 "cells": [
  {
   "cell_type": "markdown",
   "id": "5bfe7247",
   "metadata": {},
   "source": [
    "# Instacart Grocery Basket Analysis Final Project"
   ]
  },
  {
   "cell_type": "markdown",
   "id": "bf3d4a5d",
   "metadata": {},
   "source": [
    "Table of Contents:\n",
    "    \n",
    "Create Regions Column \n",
    "Create a Region, Spending Flag Group\n",
    "Flag Low Activity Customers and remove them from data set\n",
    "Create Profiling for Middle Class Young Parent who buy baby items and household goods\n",
    "Create Crosstabs to analize data\n",
    "Create Income Flag"
   ]
  },
  {
   "cell_type": "code",
   "execution_count": 1,
   "id": "2bba06ad",
   "metadata": {},
   "outputs": [],
   "source": [
    "#Part 1\n",
    "\n",
    "#Import Libraries\n",
    "\n",
    "import pandas as pd\n",
    "import numpy as np\n",
    "import os\n",
    "import matplotlib.pyplot as plt\n",
    "import seaborn as sns\n",
    "import scipy"
   ]
  },
  {
   "cell_type": "code",
   "execution_count": 2,
   "id": "41b1a4be",
   "metadata": {},
   "outputs": [],
   "source": [
    "#Question 1\n",
    "\n",
    "#Import 4.9 Data Set\n",
    "\n",
    "orders_products_all = pd.read_pickle(r'C:\\Users\\Owner\\Documents\\Instacart Basket Analysis\\02 Data\\Prepared Data\\orders_products_all.pkl')"
   ]
  },
  {
   "cell_type": "markdown",
   "id": "6308dbae",
   "metadata": {},
   "source": [
    "Question 2\n",
    "\n",
    "Address Security implications\n",
    "\n",
    "No single column within our data could trace back to one person. We have names but no email addresses, physical addresses,\n",
    "or phone numbers. Within a row, I could see a person potentially finding a person using the 1sts 9 columns."
   ]
  },
  {
   "cell_type": "markdown",
   "id": "45dcadac",
   "metadata": {},
   "source": [
    "Question 3"
   ]
  },
  {
   "cell_type": "code",
   "execution_count": 3,
   "id": "412eeaf1",
   "metadata": {},
   "outputs": [],
   "source": [
    "#Assign region Northeast\n",
    "\n",
    "Northeast = ['Maine', 'New Hampshire', 'Vermont', 'Massachusetts', 'Rhode Island', 'Connecticut', 'New York', 'Pennsylvania','New Jersey']"
   ]
  },
  {
   "cell_type": "code",
   "execution_count": 4,
   "id": "1a3eb8f7",
   "metadata": {},
   "outputs": [],
   "source": [
    "#Assign Northeast to Regions column\n",
    "\n",
    "orders_products_all.loc[orders_products_all['STATE'].isin(Northeast), 'Region'] = 'Northeast'"
   ]
  },
  {
   "cell_type": "code",
   "execution_count": 5,
   "id": "949197f6",
   "metadata": {},
   "outputs": [],
   "source": [
    "#Assign region Midwest\n",
    "\n",
    "Midwest = ['Wisconsin', 'Michigan', 'Illinois', 'Indiana', 'Ohio', 'North Dakota', 'South Dakota', 'Nebraska', 'Kansas', 'Minnesota', 'Iowa', 'Missouri']"
   ]
  },
  {
   "cell_type": "code",
   "execution_count": 6,
   "id": "69e56da6",
   "metadata": {},
   "outputs": [],
   "source": [
    "#Assign Midwest to Regions column\n",
    "\n",
    "orders_products_all.loc[orders_products_all['STATE'].isin(Midwest), 'Region'] = 'Midwest'"
   ]
  },
  {
   "cell_type": "code",
   "execution_count": 7,
   "id": "39371f23",
   "metadata": {},
   "outputs": [],
   "source": [
    "#Assign region South\n",
    "\n",
    "South = ['Delaware', 'Maryland', 'District of Columbia', 'Virginia', 'West Virginia', 'North Carolina', 'South Carolina', 'Georgia', 'Florida', 'Kentucky', 'Tennessee', 'Mississippi', 'Alabama', 'Oklahoma', 'Texas', 'Arkansas', 'Louisiana']"
   ]
  },
  {
   "cell_type": "code",
   "execution_count": 8,
   "id": "fb7c9cb6",
   "metadata": {},
   "outputs": [],
   "source": [
    "#Assign South to Regions column\n",
    "\n",
    "orders_products_all.loc[orders_products_all['STATE'].isin(South), 'Region'] = 'South'"
   ]
  },
  {
   "cell_type": "code",
   "execution_count": 9,
   "id": "5bb93430",
   "metadata": {},
   "outputs": [],
   "source": [
    "#Assign region West\n",
    "\n",
    "West = ['Idaho', 'Montana', 'Wyoming', 'Nevada', 'Utah', 'Colorado', 'Arizona', 'New Mexico', 'Alaska', 'Washington', 'Oregon', 'California', 'Hawaii']"
   ]
  },
  {
   "cell_type": "code",
   "execution_count": 10,
   "id": "7f67855a",
   "metadata": {},
   "outputs": [],
   "source": [
    "#Assign West to Regions column\n",
    "\n",
    "orders_products_all.loc[orders_products_all['STATE'].isin(West), 'Region'] = 'West'"
   ]
  },
  {
   "cell_type": "code",
   "execution_count": 11,
   "id": "000b79e9",
   "metadata": {},
   "outputs": [
    {
     "data": {
      "text/plain": [
       "Region     spending_flag\n",
       "Midwest    High Spender       155975\n",
       "           Low Spender       7441350\n",
       "Northeast  High Spender       108225\n",
       "           Low Spender       5614511\n",
       "South      High Spender       209691\n",
       "           Low Spender      10582194\n",
       "West       High Spender       160354\n",
       "           Low Spender       8132559\n",
       "dtype: int64"
      ]
     },
     "execution_count": 11,
     "metadata": {},
     "output_type": "execute_result"
    }
   ],
   "source": [
    "orders_products_all.groupby(['Region', 'spending_flag']).size()"
   ]
  },
  {
   "cell_type": "markdown",
   "id": "1e94c260",
   "metadata": {},
   "source": [
    "Question 3 Analysis - The most High Spenders are located in the South with 209,691, followed by the West with 160,354, the Midwest with 155975, and finaly Northeast with 108,225.\n",
    "\n",
    "The most Low Spenders are located in the South with 10,582,194, followed byt the West with 8,132,559, the Midwest with 7,441,350, and finaly the Northeast with 5,614,511."
   ]
  },
  {
   "cell_type": "markdown",
   "id": "f413dfb6",
   "metadata": {},
   "source": [
    "Question 4 - Exclude low-activity customers from the data "
   ]
  },
  {
   "cell_type": "code",
   "execution_count": 12,
   "id": "c067a6fc",
   "metadata": {},
   "outputs": [],
   "source": [
    "#Flag Low-Activity Customers\n",
    "\n",
    "orders_products_all.loc[orders_products_all['max_order'] <5, 'Customer_Activity'] = 'Low Activity Customer'"
   ]
  },
  {
   "cell_type": "code",
   "execution_count": 13,
   "id": "965a7f3a",
   "metadata": {},
   "outputs": [
    {
     "data": {
      "text/plain": [
       "Low Activity Customer    1440295\n",
       "Name: Customer_Activity, dtype: int64"
      ]
     },
     "execution_count": 13,
     "metadata": {},
     "output_type": "execute_result"
    }
   ],
   "source": [
    "orders_products_all['Customer_Activity'].value_counts()"
   ]
  },
  {
   "cell_type": "code",
   "execution_count": 14,
   "id": "0f2a19ba",
   "metadata": {},
   "outputs": [
    {
     "data": {
      "text/plain": [
       "(32404859, 33)"
      ]
     },
     "execution_count": 14,
     "metadata": {},
     "output_type": "execute_result"
    }
   ],
   "source": [
    "#Drop rows flagged by Low Activity Customers\n",
    "\n",
    "orders_products_all.shape"
   ]
  },
  {
   "cell_type": "code",
   "execution_count": 15,
   "id": "60c84cff",
   "metadata": {},
   "outputs": [],
   "source": [
    "orders_products_all_2 = orders_products_all.loc[orders_products_all['max_order'] >=5 ]"
   ]
  },
  {
   "cell_type": "code",
   "execution_count": 36,
   "id": "152d8de4",
   "metadata": {},
   "outputs": [],
   "source": [
    "#Export Data Set\n",
    "\n",
    "orders_products_all_2.to_pickle(r'C:\\Users\\Owner\\Documents\\Instacart Basket Analysis\\02 Data\\Prepared Data\\orders_products_all_2.pkl')"
   ]
  },
  {
   "cell_type": "markdown",
   "id": "c463637b",
   "metadata": {},
   "source": [
    "Question 5 - Create a profiling variable based on age, income, certain goods, and number of dependents \n",
    "\n",
    "Middle Class Young Adult Parent, who has a baby(18) and buys household products(17)/ MCYAP_BH\n",
    "\n",
    "Middle Class = $48,500 - $145,500\n",
    "Age = 18 to 35\n",
    "Dependents = 1+\n",
    "Department ID - Babies (18) and Househould(17)\n"
   ]
  },
  {
   "cell_type": "code",
   "execution_count": 21,
   "id": "550889cf",
   "metadata": {},
   "outputs": [],
   "source": [
    "MCYAP_BH = orders_products_all.loc[(orders_products_all['department_id'].isin([17,18])) & (orders_products_all['Age'] >17) &\n",
    "                                  (orders_products_all['Age'] < 36) & (orders_products_all['n_dependants'] > 0) & \n",
    "                                  (orders_products_all['income'] > 48499) & (orders_products_all['income'] < 145500)] "
   ]
  },
  {
   "cell_type": "markdown",
   "id": "1e6fbd9d",
   "metadata": {},
   "source": [
    "Question 6"
   ]
  },
  {
   "cell_type": "code",
   "execution_count": 75,
   "id": "6a7ef202",
   "metadata": {},
   "outputs": [
    {
     "data": {
      "image/png": "[encoded data removed]",
      "text/plain": [
       "<Figure size 432x288 with 1 Axes>"
      ]
     },
     "metadata": {
      "needs_background": "light"
     },
     "output_type": "display_data"
    }
   ],
   "source": [
    "bar_age = MCYAP_BH['Age'].value_counts().sort_index().plot.bar()"
   ]
  },
  {
   "cell_type": "code",
   "execution_count": 76,
   "id": "ff670d9b",
   "metadata": {},
   "outputs": [],
   "source": [
    "bar_age.figure.savefig(r'C:\\Users\\Owner\\Documents\\Instacart Basket Analysis\\04 Analysis\\Visualizations\\bar_age_MCYAP_BH.png')"
   ]
  },
  {
   "cell_type": "code",
   "execution_count": 79,
   "id": "4ca6ac4a",
   "metadata": {},
   "outputs": [
    {
     "data": {
      "image/png": "[encoded data removed]",
      "text/plain": [
       "<Figure size 432x288 with 1 Axes>"
      ]
     },
     "metadata": {
      "needs_background": "light"
     },
     "output_type": "display_data"
    }
   ],
   "source": [
    "hist_income = MCYAP_BH['income'].plot.hist(bins = 70)"
   ]
  },
  {
   "cell_type": "code",
   "execution_count": 80,
   "id": "5af9bc6b",
   "metadata": {},
   "outputs": [],
   "source": [
    "hist_income.figure.savefig(r'C:\\Users\\Owner\\Documents\\Instacart Basket Analysis\\04 Analysis\\Visualizations\\hist_income_MCYAP_BH.png')"
   ]
  },
  {
   "cell_type": "code",
   "execution_count": 91,
   "id": "65c4176d",
   "metadata": {},
   "outputs": [
    {
     "data": {
      "image/png": "[encoded data removed]",
      "text/plain": [
       "<Figure size 432x288 with 1 Axes>"
      ]
     },
     "metadata": {
      "needs_background": "light"
     },
     "output_type": "display_data"
    }
   ],
   "source": [
    "scatter = sns.scatterplot(x = 'Age', y = 'income', data = MCYAP_BH)"
   ]
  },
  {
   "cell_type": "code",
   "execution_count": 92,
   "id": "77893897",
   "metadata": {},
   "outputs": [],
   "source": [
    "scatter.figure.savefig(r'C:\\Users\\Owner\\Documents\\Instacart Basket Analysis\\04 Analysis\\Visualizations\\scat_income_vs_age_MCYAP_BH.png')"
   ]
  },
  {
   "cell_type": "code",
   "execution_count": 77,
   "id": "9c9910ad",
   "metadata": {},
   "outputs": [
    {
     "data": {
      "text/plain": [
       "(203371, 34)"
      ]
     },
     "execution_count": 77,
     "metadata": {},
     "output_type": "execute_result"
    }
   ],
   "source": [
    "MCYAP_BH.shape"
   ]
  },
  {
   "cell_type": "markdown",
   "id": "9aa84c5f",
   "metadata": {},
   "source": [
    "Question 7"
   ]
  },
  {
   "cell_type": "code",
   "execution_count": 102,
   "id": "64f457ab",
   "metadata": {},
   "outputs": [
    {
     "data": {
      "text/plain": [
       "count    203371.000000\n",
       "mean         26.353512\n",
       "std           5.214619\n",
       "min          18.000000\n",
       "25%          22.000000\n",
       "50%          26.000000\n",
       "75%          31.000000\n",
       "max          35.000000\n",
       "Name: Age, dtype: float64"
      ]
     },
     "execution_count": 102,
     "metadata": {},
     "output_type": "execute_result"
    }
   ],
   "source": [
    "MCYAP_BH['Age'].describe()"
   ]
  },
  {
   "cell_type": "code",
   "execution_count": 103,
   "id": "dee5e188",
   "metadata": {},
   "outputs": [
    {
     "data": {
      "text/plain": [
       "count    203371.000000\n",
       "mean      74829.054349\n",
       "std       15386.416916\n",
       "min       48502.000000\n",
       "25%       62213.000000\n",
       "50%       73228.000000\n",
       "75%       87100.000000\n",
       "max      144989.000000\n",
       "Name: income, dtype: float64"
      ]
     },
     "execution_count": 103,
     "metadata": {},
     "output_type": "execute_result"
    }
   ],
   "source": [
    "MCYAP_BH['income'].describe()"
   ]
  },
  {
   "cell_type": "code",
   "execution_count": 105,
   "id": "a32f73c1",
   "metadata": {},
   "outputs": [
    {
     "data": {
      "text/plain": [
       "count    203371.000000\n",
       "mean          1.993937\n",
       "std           0.814131\n",
       "min           1.000000\n",
       "25%           1.000000\n",
       "50%           2.000000\n",
       "75%           3.000000\n",
       "max           3.000000\n",
       "Name: n_dependants, dtype: float64"
      ]
     },
     "execution_count": 105,
     "metadata": {},
     "output_type": "execute_result"
    }
   ],
   "source": [
    "MCYAP_BH['n_dependants'].describe()"
   ]
  },
  {
   "cell_type": "code",
   "execution_count": 113,
   "id": "043d7ca1",
   "metadata": {},
   "outputs": [
    {
     "data": {
      "text/plain": [
       "17    126033\n",
       "18     77338\n",
       "Name: department_id, dtype: int64"
      ]
     },
     "execution_count": 113,
     "metadata": {},
     "output_type": "execute_result"
    }
   ],
   "source": [
    "MCYAP_BH['department_id'].value_counts()"
   ]
  },
  {
   "cell_type": "markdown",
   "id": "3d123897",
   "metadata": {},
   "source": [
    "Question 8"
   ]
  },
  {
   "cell_type": "code",
   "execution_count": 123,
   "id": "e7c06b6b",
   "metadata": {},
   "outputs": [
    {
     "data": {
      "text/plain": [
       "Region     department_id\n",
       "Midwest    17               30055\n",
       "           18               18318\n",
       "Northeast  17               22650\n",
       "           18               14677\n",
       "South      17               41215\n",
       "           18               25424\n",
       "West       17               32113\n",
       "           18               18919\n",
       "dtype: int64"
      ]
     },
     "execution_count": 123,
     "metadata": {},
     "output_type": "execute_result"
    }
   ],
   "source": [
    "MCYAP_BH.groupby(['Region', 'department_id']).size()"
   ]
  },
  {
   "cell_type": "code",
   "execution_count": 124,
   "id": "83c94849",
   "metadata": {},
   "outputs": [
    {
     "data": {
      "text/plain": [
       "Region     n_dependants\n",
       "Midwest    1               17559\n",
       "           2               15538\n",
       "           3               15276\n",
       "Northeast  1               12192\n",
       "           2               11821\n",
       "           3               13314\n",
       "South      1               21075\n",
       "           2               23872\n",
       "           3               21692\n",
       "West       1               17192\n",
       "           2               17337\n",
       "           3               16503\n",
       "dtype: int64"
      ]
     },
     "execution_count": 124,
     "metadata": {},
     "output_type": "execute_result"
    }
   ],
   "source": [
    "MCYAP_BH.groupby(['Region', 'n_dependants']).size()"
   ]
  },
  {
   "cell_type": "code",
   "execution_count": 134,
   "id": "2effb629",
   "metadata": {},
   "outputs": [
    {
     "data": {
      "text/plain": [
       "Region\n",
       "Midwest      20\n",
       "Northeast    35\n",
       "South        24\n",
       "West         26\n",
       "Name: Age, dtype: int64"
      ]
     },
     "execution_count": 134,
     "metadata": {},
     "output_type": "execute_result"
    }
   ],
   "source": [
    "MCYAP_BH.groupby(['Region'])['Age'].agg(pd.Series.mode)"
   ]
  },
  {
   "cell_type": "code",
   "execution_count": 128,
   "id": "b03d3901",
   "metadata": {},
   "outputs": [
    {
     "data": {
      "text/html": [
       "<div>\n",
       "<style scoped>\n",
       "    .dataframe tbody tr th:only-of-type {\n",
       "        vertical-align: middle;\n",
       "    }\n",
       "\n",
       "    .dataframe tbody tr th {\n",
       "        vertical-align: top;\n",
       "    }\n",
       "\n",
       "    .dataframe thead tr th {\n",
       "        text-align: left;\n",
       "    }\n",
       "\n",
       "    .dataframe thead tr:last-of-type th {\n",
       "        text-align: right;\n",
       "    }\n",
       "</style>\n",
       "<table border=\"1\" class=\"dataframe\">\n",
       "  <thead>\n",
       "    <tr>\n",
       "      <th></th>\n",
       "      <th>income</th>\n",
       "    </tr>\n",
       "    <tr>\n",
       "      <th></th>\n",
       "      <th>mean</th>\n",
       "    </tr>\n",
       "    <tr>\n",
       "      <th>Region</th>\n",
       "      <th></th>\n",
       "    </tr>\n",
       "  </thead>\n",
       "  <tbody>\n",
       "    <tr>\n",
       "      <th>Midwest</th>\n",
       "      <td>74298.618506</td>\n",
       "    </tr>\n",
       "    <tr>\n",
       "      <th>Northeast</th>\n",
       "      <td>75008.481475</td>\n",
       "    </tr>\n",
       "    <tr>\n",
       "      <th>South</th>\n",
       "      <td>75520.068398</td>\n",
       "    </tr>\n",
       "    <tr>\n",
       "      <th>West</th>\n",
       "      <td>74298.266049</td>\n",
       "    </tr>\n",
       "  </tbody>\n",
       "</table>\n",
       "</div>"
      ],
      "text/plain": [
       "                 income\n",
       "                   mean\n",
       "Region                 \n",
       "Midwest    74298.618506\n",
       "Northeast  75008.481475\n",
       "South      75520.068398\n",
       "West       74298.266049"
      ]
     },
     "execution_count": 128,
     "metadata": {},
     "output_type": "execute_result"
    }
   ],
   "source": [
    "MCYAP_BH.groupby('Region').agg({'income' : ['mean']})"
   ]
  },
  {
   "cell_type": "code",
   "execution_count": 69,
   "id": "fa13ade7",
   "metadata": {},
   "outputs": [
    {
     "data": {
      "text/plain": [
       "100% Recycled Paper Towels                          4887\n",
       "Sustainably Soft Bath Tissue                        3175\n",
       "Aluminum Foil                                       1920\n",
       "Baby Food Stage 2 Blueberry Pear & Purple Carrot    1706\n",
       "Natural Free & Clear Dish Liquid                    1622\n",
       "                                                    ... \n",
       "Lemon Verbena Air Freshener                            1\n",
       "Automatic Spray Holder                                 1\n",
       "Enfagrow Older Toddler Vanilla Milk Drink Powder       1\n",
       "Scotch Kids 5\\\" Scissors, Blunted, Red                 1\n",
       "2nd Foods Applesauce                                   1\n",
       "Name: product_name, Length: 3759, dtype: int64"
      ]
     },
     "execution_count": 69,
     "metadata": {},
     "output_type": "execute_result"
    }
   ],
   "source": [
    "MCYAP_BH['product_name'].value_counts()"
   ]
  },
  {
   "cell_type": "code",
   "execution_count": 27,
   "id": "125bc9b7",
   "metadata": {},
   "outputs": [
    {
     "data": {
      "text/html": [
       "<div>\n",
       "<style scoped>\n",
       "    .dataframe tbody tr th:only-of-type {\n",
       "        vertical-align: middle;\n",
       "    }\n",
       "\n",
       "    .dataframe tbody tr th {\n",
       "        vertical-align: top;\n",
       "    }\n",
       "\n",
       "    .dataframe thead th {\n",
       "        text-align: right;\n",
       "    }\n",
       "</style>\n",
       "<table border=\"1\" class=\"dataframe\">\n",
       "  <thead>\n",
       "    <tr style=\"text-align: right;\">\n",
       "      <th></th>\n",
       "      <th>user_id</th>\n",
       "      <th>First Name</th>\n",
       "      <th>Surnam</th>\n",
       "      <th>Gender</th>\n",
       "      <th>STATE</th>\n",
       "      <th>Age</th>\n",
       "      <th>date_joined</th>\n",
       "      <th>n_dependants</th>\n",
       "      <th>fam_status</th>\n",
       "      <th>income</th>\n",
       "      <th>...</th>\n",
       "      <th>department_id</th>\n",
       "      <th>prices</th>\n",
       "      <th>max_order</th>\n",
       "      <th>loyalty_flag</th>\n",
       "      <th>avg_price</th>\n",
       "      <th>spending_flag</th>\n",
       "      <th>order_freq</th>\n",
       "      <th>order_frequency_flag</th>\n",
       "      <th>Region</th>\n",
       "      <th>Customer_Activity</th>\n",
       "    </tr>\n",
       "  </thead>\n",
       "  <tbody>\n",
       "    <tr>\n",
       "      <th>141</th>\n",
       "      <td>65803</td>\n",
       "      <td>Kenneth</td>\n",
       "      <td>Farley</td>\n",
       "      <td>Male</td>\n",
       "      <td>Idaho</td>\n",
       "      <td>35</td>\n",
       "      <td>1/1/2017</td>\n",
       "      <td>2</td>\n",
       "      <td>married</td>\n",
       "      <td>99568</td>\n",
       "      <td>...</td>\n",
       "      <td>17</td>\n",
       "      <td>3.7</td>\n",
       "      <td>9</td>\n",
       "      <td>New Customer</td>\n",
       "      <td>8.375962</td>\n",
       "      <td>Low Spender</td>\n",
       "      <td>7.0</td>\n",
       "      <td>Frequent customer</td>\n",
       "      <td>West</td>\n",
       "      <td>NaN</td>\n",
       "    </tr>\n",
       "    <tr>\n",
       "      <th>2555</th>\n",
       "      <td>8794</td>\n",
       "      <td>Amy</td>\n",
       "      <td>Mack</td>\n",
       "      <td>Female</td>\n",
       "      <td>Nebraska</td>\n",
       "      <td>30</td>\n",
       "      <td>1/1/2017</td>\n",
       "      <td>3</td>\n",
       "      <td>married</td>\n",
       "      <td>57096</td>\n",
       "      <td>...</td>\n",
       "      <td>18</td>\n",
       "      <td>6.5</td>\n",
       "      <td>6</td>\n",
       "      <td>New Customer</td>\n",
       "      <td>9.444186</td>\n",
       "      <td>Low Spender</td>\n",
       "      <td>25.0</td>\n",
       "      <td>Non-Frequent Customer</td>\n",
       "      <td>Midwest</td>\n",
       "      <td>NaN</td>\n",
       "    </tr>\n",
       "    <tr>\n",
       "      <th>2561</th>\n",
       "      <td>8794</td>\n",
       "      <td>Amy</td>\n",
       "      <td>Mack</td>\n",
       "      <td>Female</td>\n",
       "      <td>Nebraska</td>\n",
       "      <td>30</td>\n",
       "      <td>1/1/2017</td>\n",
       "      <td>3</td>\n",
       "      <td>married</td>\n",
       "      <td>57096</td>\n",
       "      <td>...</td>\n",
       "      <td>18</td>\n",
       "      <td>5.8</td>\n",
       "      <td>6</td>\n",
       "      <td>New Customer</td>\n",
       "      <td>9.444186</td>\n",
       "      <td>Low Spender</td>\n",
       "      <td>25.0</td>\n",
       "      <td>Non-Frequent Customer</td>\n",
       "      <td>Midwest</td>\n",
       "      <td>NaN</td>\n",
       "    </tr>\n",
       "    <tr>\n",
       "      <th>2569</th>\n",
       "      <td>8794</td>\n",
       "      <td>Amy</td>\n",
       "      <td>Mack</td>\n",
       "      <td>Female</td>\n",
       "      <td>Nebraska</td>\n",
       "      <td>30</td>\n",
       "      <td>1/1/2017</td>\n",
       "      <td>3</td>\n",
       "      <td>married</td>\n",
       "      <td>57096</td>\n",
       "      <td>...</td>\n",
       "      <td>18</td>\n",
       "      <td>13.5</td>\n",
       "      <td>6</td>\n",
       "      <td>New Customer</td>\n",
       "      <td>9.444186</td>\n",
       "      <td>Low Spender</td>\n",
       "      <td>25.0</td>\n",
       "      <td>Non-Frequent Customer</td>\n",
       "      <td>Midwest</td>\n",
       "      <td>NaN</td>\n",
       "    </tr>\n",
       "    <tr>\n",
       "      <th>2570</th>\n",
       "      <td>8794</td>\n",
       "      <td>Amy</td>\n",
       "      <td>Mack</td>\n",
       "      <td>Female</td>\n",
       "      <td>Nebraska</td>\n",
       "      <td>30</td>\n",
       "      <td>1/1/2017</td>\n",
       "      <td>3</td>\n",
       "      <td>married</td>\n",
       "      <td>57096</td>\n",
       "      <td>...</td>\n",
       "      <td>18</td>\n",
       "      <td>13.5</td>\n",
       "      <td>6</td>\n",
       "      <td>New Customer</td>\n",
       "      <td>9.444186</td>\n",
       "      <td>Low Spender</td>\n",
       "      <td>25.0</td>\n",
       "      <td>Non-Frequent Customer</td>\n",
       "      <td>Midwest</td>\n",
       "      <td>NaN</td>\n",
       "    </tr>\n",
       "  </tbody>\n",
       "</table>\n",
       "<p>5 rows × 33 columns</p>\n",
       "</div>"
      ],
      "text/plain": [
       "     user_id First Name  Surnam  Gender     STATE  Age date_joined  \\\n",
       "141    65803    Kenneth  Farley    Male     Idaho   35    1/1/2017   \n",
       "2555    8794        Amy    Mack  Female  Nebraska   30    1/1/2017   \n",
       "2561    8794        Amy    Mack  Female  Nebraska   30    1/1/2017   \n",
       "2569    8794        Amy    Mack  Female  Nebraska   30    1/1/2017   \n",
       "2570    8794        Amy    Mack  Female  Nebraska   30    1/1/2017   \n",
       "\n",
       "      n_dependants fam_status  income  ...  department_id prices  max_order  \\\n",
       "141              2    married   99568  ...             17    3.7          9   \n",
       "2555             3    married   57096  ...             18    6.5          6   \n",
       "2561             3    married   57096  ...             18    5.8          6   \n",
       "2569             3    married   57096  ...             18   13.5          6   \n",
       "2570             3    married   57096  ...             18   13.5          6   \n",
       "\n",
       "      loyalty_flag  avg_price  spending_flag  order_freq  \\\n",
       "141   New Customer   8.375962    Low Spender         7.0   \n",
       "2555  New Customer   9.444186    Low Spender        25.0   \n",
       "2561  New Customer   9.444186    Low Spender        25.0   \n",
       "2569  New Customer   9.444186    Low Spender        25.0   \n",
       "2570  New Customer   9.444186    Low Spender        25.0   \n",
       "\n",
       "       order_frequency_flag   Region Customer_Activity  \n",
       "141       Frequent customer     West               NaN  \n",
       "2555  Non-Frequent Customer  Midwest               NaN  \n",
       "2561  Non-Frequent Customer  Midwest               NaN  \n",
       "2569  Non-Frequent Customer  Midwest               NaN  \n",
       "2570  Non-Frequent Customer  Midwest               NaN  \n",
       "\n",
       "[5 rows x 33 columns]"
      ]
     },
     "execution_count": 27,
     "metadata": {},
     "output_type": "execute_result"
    }
   ],
   "source": [
    "MCYAP_BH.head()"
   ]
  },
  {
   "cell_type": "code",
   "execution_count": 135,
   "id": "3da31b76",
   "metadata": {},
   "outputs": [],
   "source": [
    "#Export Data Set Profile\n",
    "\n",
    "\n",
    "MCYAP_BH.to_pickle(r'C:\\Users\\Owner\\Documents\\Instacart Basket Analysis\\02 Data\\Prepared Data\\MCYAP_BH.pkl')"
   ]
  },
  {
   "cell_type": "code",
   "execution_count": 45,
   "id": "be2dba2c",
   "metadata": {},
   "outputs": [],
   "source": [
    "crosstab = pd.crosstab(orders_products_all_2['Age'], orders_products_all['income'], dropna = False)"
   ]
  },
  {
   "cell_type": "code",
   "execution_count": 44,
   "id": "8260169f",
   "metadata": {},
   "outputs": [],
   "source": [
    "crosstab.to_clipboard()"
   ]
  },
  {
   "cell_type": "code",
   "execution_count": 46,
   "id": "c5ac0069",
   "metadata": {},
   "outputs": [
    {
     "data": {
      "text/plain": [
       "married                             21743711\n",
       "single                               5094410\n",
       "divorced/widowed                     2645271\n",
       "living with parents and siblings     1481172\n",
       "Name: fam_status, dtype: int64"
      ]
     },
     "execution_count": 46,
     "metadata": {},
     "output_type": "execute_result"
    }
   ],
   "source": [
    "orders_products_all_2['fam_status'].value_counts()"
   ]
  },
  {
   "cell_type": "code",
   "execution_count": 55,
   "id": "d6099500",
   "metadata": {},
   "outputs": [
    {
     "data": {
      "image/png": "[encoded data removed]",
      "text/plain": [
       "<Figure size 432x288 with 1 Axes>"
      ]
     },
     "metadata": {
      "needs_background": "light"
     },
     "output_type": "display_data"
    }
   ],
   "source": [
    "bar_fam_status = orders_products_all_2['fam_status'].value_counts().sort_index().plot.bar()"
   ]
  },
  {
   "cell_type": "code",
   "execution_count": 56,
   "id": "af0bd84d",
   "metadata": {},
   "outputs": [],
   "source": [
    "bar_fam_status.figure.savefig(r'C:\\Users\\Owner\\Documents\\Instacart Basket Analysis\\04 Analysis\\bar_fam_status.png')"
   ]
  },
  {
   "cell_type": "code",
   "execution_count": 48,
   "id": "1da56586",
   "metadata": {},
   "outputs": [],
   "source": [
    "#Create income flag\n",
    "\n",
    "orders_products_all_2.loc[orders_products_all_2['income'] < 53413, 'Class'] = \"Lower-Middle Class\""
   ]
  },
  {
   "cell_type": "code",
   "execution_count": 49,
   "id": "9e2c36c8",
   "metadata": {},
   "outputs": [],
   "source": [
    "orders_products_all_2.loc[(orders_products_all_2['income'] >= 53413) & (orders_products_all_2['income'] < 106827), 'Class'] = \"Middle Class\""
   ]
  },
  {
   "cell_type": "code",
   "execution_count": 50,
   "id": "77d95dd7",
   "metadata": {},
   "outputs": [],
   "source": [
    "orders_products_all_2.loc[orders_products_all_2['income'] >= 106827 , 'Class'] = \"Upper-Middle Class\""
   ]
  },
  {
   "cell_type": "code",
   "execution_count": 53,
   "id": "a58ed993",
   "metadata": {},
   "outputs": [
    {
     "data": {
      "text/plain": [
       "Middle Class          14599429\n",
       "Upper-Middle Class    12342246\n",
       "Lower-Middle Class     4022889\n",
       "Name: Class, dtype: int64"
      ]
     },
     "execution_count": 53,
     "metadata": {},
     "output_type": "execute_result"
    }
   ],
   "source": [
    "orders_products_all_2['Class'].value_counts()"
   ]
  },
  {
   "cell_type": "code",
   "execution_count": 58,
   "id": "3f1875d9",
   "metadata": {},
   "outputs": [
    {
     "data": {
      "image/png": "[encoded data removed]",
      "text/plain": [
       "<Figure size 432x288 with 1 Axes>"
      ]
     },
     "metadata": {
      "needs_background": "light"
     },
     "output_type": "display_data"
    }
   ],
   "source": [
    "bar_income = orders_products_all_2['Class'].value_counts().sort_index().plot.bar()"
   ]
  },
  {
   "cell_type": "code",
   "execution_count": 59,
   "id": "5acbd2f7",
   "metadata": {},
   "outputs": [],
   "source": [
    "bar_income.figure.savefig(r'C:\\Users\\Owner\\Documents\\Instacart Basket Analysis\\04 Analysis\\bar_income_class.png')"
   ]
  },
  {
   "cell_type": "code",
   "execution_count": 63,
   "id": "adcc9c53",
   "metadata": {},
   "outputs": [
    {
     "data": {
      "text/plain": [
       "Region     n_dependants\n",
       "Midwest    0               1822816\n",
       "           1               1841417\n",
       "           2               1809994\n",
       "           3               1787286\n",
       "Northeast  0               1354482\n",
       "           1               1377009\n",
       "           2               1351961\n",
       "           3               1381233\n",
       "South      0               2581933\n",
       "           1               2539625\n",
       "           2               2603717\n",
       "           3               2585864\n",
       "West       0               1980450\n",
       "           1               1961055\n",
       "           2               1967589\n",
       "           3               2018133\n",
       "dtype: int64"
      ]
     },
     "execution_count": 63,
     "metadata": {},
     "output_type": "execute_result"
    }
   ],
   "source": [
    "orders_products_all_2.groupby(['Region', 'n_dependants']).size()"
   ]
  },
  {
   "cell_type": "code",
   "execution_count": 64,
   "id": "fd195f9e",
   "metadata": {},
   "outputs": [
    {
     "data": {
      "text/plain": [
       "count    3.096456e+07\n",
       "mean     4.946803e+01\n",
       "std      1.848528e+01\n",
       "min      1.800000e+01\n",
       "25%      3.300000e+01\n",
       "50%      4.900000e+01\n",
       "75%      6.500000e+01\n",
       "max      8.100000e+01\n",
       "Name: Age, dtype: float64"
      ]
     },
     "execution_count": 64,
     "metadata": {},
     "output_type": "execute_result"
    }
   ],
   "source": [
    "orders_products_all_2['Age'].describe()"
   ]
  },
  {
   "cell_type": "code",
   "execution_count": null,
   "id": "c47a69d3",
   "metadata": {},
   "outputs": [],
   "source": []
  }
 ],
 "metadata": {
  "kernelspec": {
   "display_name": "Python 3 (ipykernel)",
   "language": "python",
   "name": "python3"
  },
  "language_info": {
   "codemirror_mode": {
    "name": "ipython",
    "version": 3
   },
   "file_extension": ".py",
   "mimetype": "text/x-python",
   "name": "python",
   "nbconvert_exporter": "python",
   "pygments_lexer": "ipython3",
   "version": "3.9.12"
  }
 },
 "nbformat": 4,
 "nbformat_minor": 5
}
